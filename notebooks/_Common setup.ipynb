{
 "cells": [
  {
   "cell_type": "code",
   "execution_count": null,
   "metadata": {},
   "outputs": [],
   "source": [
    "import wosis\n",
    "import pandas as pd\n",
    "import metaknowledge as mk\n",
    "\n",
    "# Helper functions for plotting\n",
    "import wosis.analysis.plotting as wos_plot\n",
    "\n",
    "# Plotting libraries\n",
    "import matplotlib.pyplot as plt\n",
    "import seaborn as sns\n",
    "\n",
    "sns.set_style(\"whitegrid\")\n",
    "sns.set_context('paper', font_scale=2.0)"
   ]
  },
  {
   "cell_type": "code",
   "execution_count": null,
   "metadata": {},
   "outputs": [],
   "source": [
    "CONFIG_DIR = \"../config/\"\n",
    "DATA_DIR = \"../data/\"\n",
    "CACHE_DIR = DATA_DIR+\"tmp/\"\n",
    "FIG_DIR = \"../figs/\"\n",
    "\n",
    "wos_config = wosis.load_config(CONFIG_DIR+\"config.yml\")"
   ]
  },
  {
   "cell_type": "code",
   "execution_count": null,
   "metadata": {},
   "outputs": [],
   "source": [
    "# Hiding keywords and abstract for tutorial (WoS-owned IP)\n",
    "HIDE_COLUMNS = ['DE', 'abstract', 'keywords', 'DOI', 'id', 'kws']"
   ]
  }
 ],
 "metadata": {
  "kernelspec": {
   "display_name": "Python (Biblio)",
   "language": "python",
   "name": "myenv"
  },
  "language_info": {
   "codemirror_mode": {
    "name": "ipython",
    "version": 3
   },
   "file_extension": ".py",
   "mimetype": "text/x-python",
   "name": "python",
   "nbconvert_exporter": "python",
   "pygments_lexer": "ipython3",
   "version": "3.5.6"
  }
 },
 "nbformat": 4,
 "nbformat_minor": 2
}
